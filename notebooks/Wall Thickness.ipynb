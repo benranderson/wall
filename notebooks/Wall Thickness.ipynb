{
 "cells": [
  {
   "cell_type": "code",
   "execution_count": 1,
   "metadata": {},
   "outputs": [],
   "source": [
    "import numpy as np\n",
    "from scipy.optimize import newton\n",
    "# Make all plots appear inline in the notebook\n",
    "%matplotlib inline\n",
    "import matplotlib.pyplot as plt\n",
    "plt.style.use('seaborn-pastel')"
   ]
  },
  {
   "cell_type": "code",
   "execution_count": 2,
   "metadata": {},
   "outputs": [],
   "source": [
    "D_o = np.array([0.2, 0.1])\n",
    "delta_P = np.array([0.2, 0.1])\n",
    "sigma_y = np.array([0.2, 0.1])"
   ]
  },
  {
   "cell_type": "code",
   "execution_count": 1,
   "metadata": {},
   "outputs": [],
   "source": [
    "DESIGN_FACTORS = {\n",
    "    \"riser\": 0.6,\n",
    "    \"seabed\": 0.72\n",
    "}"
   ]
  },
  {
   "cell_type": "code",
   "execution_count": 2,
   "metadata": {},
   "outputs": [],
   "source": [
    "def min_hoop_thickness(D_o, delta_P, sigma_y, f_d=0.72):\n",
    "    \"\"\"Calculate the minimum wall thickness for hoop stress considering\n",
    "    thin wall and thick wall equations (PD 8010-2 Section 6.4.2).    \n",
    "    \n",
    "    Parameters\n",
    "    ----------\n",
    "    array D_o: Outside diameter [m]\n",
    "    array delta_P: Pressure difference [Pa]\n",
    "    array sigma_y: Derated yield strength [Pa]\n",
    "    float f_d: Hoop stress design factor [-]\n",
    "\n",
    "    Returns\n",
    "    -------\n",
    "    array t_min: Minimum wall thickness [m]\n",
    "    array ratio: D_o / t_min ratio [-]\n",
    "    \"\"\"\n",
    "\n",
    "    # allowable stress (PD 8010-2 equation 2)\n",
    "    sigma_a = f_d * sigma_y\n",
    "    \n",
    "    # thin wall equation (PD 8010-2 equation 3)\n",
    "    thin =  delta_P * D_o / (2 * sigma_a)\n",
    "\n",
    "    def thick():\n",
    "        # thick wall equation (PD 8010-2 equation 5)\n",
    "        return 0.5 * (\n",
    "            D_o - np.sqrt(((sigma_a - abs(delta_P)) * D_o ** 2) / (sigma_a + abs(delta_P)))\n",
    "        )\n",
    "    \n",
    "    ratio = D_o / thin\n",
    "    \n",
    "    t_min = np.where(ratio > 20, thin, thick())\n",
    "\n",
    "    return t_min, ratio"
   ]
  },
  {
   "cell_type": "code",
   "execution_count": null,
   "metadata": {},
   "outputs": [],
   "source": []
  }
 ],
 "metadata": {
  "kernelspec": {
   "display_name": "anaconda-env",
   "language": "python",
   "name": "anaconda-env"
  },
  "language_info": {
   "codemirror_mode": {
    "name": "ipython",
    "version": 3
   },
   "file_extension": ".py",
   "mimetype": "text/x-python",
   "name": "python",
   "nbconvert_exporter": "python",
   "pygments_lexer": "ipython3",
   "version": "3.7.2"
  }
 },
 "nbformat": 4,
 "nbformat_minor": 2
}
